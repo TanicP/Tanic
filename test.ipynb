{
 "cells": [
  {
   "cell_type": "code",
   "execution_count": 2,
   "metadata": {},
   "outputs": [
    {
     "name": "stdout",
     "output_type": "stream",
     "text": [
      "Working with flask-rq2 extension in heroku\n",
      "pandas get the value and the location from another DataFrame and make a series\n",
      "pandas combine data frames with redundant rows\n",
      "How to read a specific line which is above the current line from a file using python\n",
      "Not able to write complete list of text into a csv file\n",
      "PySpark: Should we update a dataframe iteratively?\n",
      "Conitional output in keras LSTM\n",
      "Infinite Ball Simulator in Python Tkinter\n",
      "Counting changes in pandas row values?\n",
      "Convert pandas dataframe index timestamp to datetime\n",
      "Reading R scripts in python\n",
      "Retrieval of single entry by np.datetime index value failing, but not failing by range\n",
      "Accepting the specific value of parameters with repeating the step of loop\n",
      "Error in importing NLTK :\n",
      "How to use python Tkinter to iterate images?\n",
      "Python: Recursively list all files with a certain extension in a network samba folder\n",
      "I am testing Azure Model Management, but I cannot publish my service using the IRIS example\n",
      "Python run via ssh bur edit locally\n",
      "How to select this kind of data from this pandas multi-index dataframe\n",
      "- Error - cv2.error: OpenCV(3.4.1)\n",
      "How to list all installed packages and their versions in Python?\n",
      "unicode version for python and my debian9 and vim?\n",
      "Merge multiple columns data into one pandas\n",
      "Should I ignore the .idea folder when using PyCharm with Git?\n",
      "How to introduce typo in a string?\n",
      "How we can test Web application with rest API using python?\n",
      "Retrieving information from QLineEdit as soon as there is input?\n",
      "beautifulsoup : How to I get text from &lt;p&gt; tag in html\n",
      "python requests unexpectedly decode application/x-gzip content\n",
      "Search and replace a pattern in python using regular expressions\n"
     ]
    }
   ],
   "source": [
    "import requests, json\n",
    "\n",
    "url = 'https://api.stackexchange.com/2.2/questions?order=desc&sort=activity&tagged=python&site=stackoverflow'\n",
    "r = requests.get(url)\n",
    "title = r.json()\n",
    "\n",
    "for i in range(len(title.get('items'))):\n",
    "    for key in title.get('items')[i]:\n",
    "        if key == 'title':\n",
    "            print(title['items'][i][key]) "
   ]
  }
 ],
 "metadata": {
  "kernelspec": {
   "display_name": "Python 3",
   "language": "python",
   "name": "python3"
  },
  "language_info": {
   "codemirror_mode": {
    "name": "ipython",
    "version": 3
   },
   "file_extension": ".py",
   "mimetype": "text/x-python",
   "name": "python",
   "nbconvert_exporter": "python",
   "pygments_lexer": "ipython3",
   "version": "3.6.5"
  }
 },
 "nbformat": 4,
 "nbformat_minor": 2
}
